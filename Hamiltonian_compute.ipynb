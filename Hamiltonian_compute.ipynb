{
 "cells": [
  {
   "cell_type": "code",
   "execution_count": 1,
   "metadata": {},
   "outputs": [],
   "source": [
    "import numpy as np\n",
    "import itertools\n",
    "import ast\n",
    "from scipy.linalg import expm\n"
   ]
  },
  {
   "cell_type": "code",
   "execution_count": 43,
   "metadata": {},
   "outputs": [],
   "source": [
    "# ----- CONFIG -----\n",
    "beta = 1.0  # inverse temperature\n",
    "input_file = \"test_H.txt\"\n",
    "\n",
    "# ----- FERMIONIC BASIS -----\n",
    "def generate_half_filling_basis(n_orbitals):\n",
    "    n_particles = n_orbitals // 2\n",
    "    basis = []\n",
    "    for state in itertools.combinations(range(n_orbitals), n_particles):\n",
    "        vec = [0] * n_orbitals\n",
    "        for idx in state:\n",
    "            vec[idx] = 1\n",
    "        basis.append(tuple(vec))\n",
    "    return basis\n",
    "\n",
    "def state_index(state, basis):\n",
    "    return basis.index(tuple(state))\n",
    "\n",
    "# ----- OPERATOR LOGIC -----\n",
    "def apply_op(op_string, state):\n",
    "    new_state = list(state)\n",
    "    phase = 1\n",
    "\n",
    "    for op in op_string:\n",
    "        dagger = op.endswith('^')\n",
    "        idx = int(op[:-1] if dagger else op)\n",
    "\n",
    "        if dagger:  # creation\n",
    "            if new_state[idx] == 1:\n",
    "                return None, 0  # annihilated\n",
    "            phase *= (-1) ** sum(new_state[:idx])\n",
    "            new_state[idx] = 1\n",
    "        else:  # annihilation\n",
    "            if new_state[idx] == 0:\n",
    "                return None, 0\n",
    "            phase *= (-1) ** sum(new_state[:idx])\n",
    "            new_state[idx] = 0\n",
    "\n",
    "    return tuple(new_state), phase\n",
    "\n",
    "\n",
    "def parse_term(line):\n",
    "    line = line.strip().rstrip('+').strip()  # Remove trailing '+' and whitespace\n",
    "    coeff_str, ops_str = line.split('[')\n",
    "    coeff = complex(coeff_str.strip())\n",
    "    ops = ops_str.strip(' ]').split()\n",
    "    return coeff, ops\n",
    "\n",
    "\n",
    "# ----- MAIN HAMILTONIAN BUILDING -----\n",
    "def build_hamiltonian_matrix(n_orbitals, lines):\n",
    "    basis = generate_half_filling_basis(n_orbitals)\n",
    "    dim = len(basis)\n",
    "    H = np.zeros((dim, dim), dtype=complex)\n",
    "\n",
    "    for line in lines:\n",
    "        coeff, ops = parse_term(line)\n",
    "\n",
    "        ops = ops[::-1]\n",
    "\n",
    "        print(ops)\n",
    "        for i, state in enumerate(basis):\n",
    "            new_state, phase = apply_op(ops, state)\n",
    "            if new_state:\n",
    "                j = state_index(new_state, basis)\n",
    "                H[i, j] += coeff * phase\n",
    "\n",
    "        # Hermitian conjugate term\n",
    "        hc_ops = [op[:-1] if op.endswith('^') else op + '^' for op in ops[::-1]]\n",
    "        hc_coeff = np.conj(coeff)\n",
    "\n",
    "        for i, state in enumerate(basis):\n",
    "            new_state, phase = apply_op(hc_ops, state)\n",
    "            if new_state:\n",
    "                j = state_index(new_state, basis)\n",
    "                if i != j:  # Avoid double-counting diagonal terms\n",
    "                    H[i, j] += hc_coeff * phase\n",
    "\n",
    "    return H, basis\n",
    "\n",
    "# ----- EXPECTATION VALUE -----\n",
    "def compute_thermal_expectation(H, beta):\n",
    "    expH = expm(-beta * H)\n",
    "    Z = np.trace(expH)\n",
    "    return np.trace(H @ expH).real / Z.real\n"
   ]
  },
  {
   "cell_type": "code",
   "execution_count": 44,
   "metadata": {},
   "outputs": [
    {
     "name": "stdout",
     "output_type": "stream",
     "text": [
      "['2^']\n"
     ]
    },
    {
     "ename": "ValueError",
     "evalue": "(1, 1, 1, 0) is not in list",
     "output_type": "error",
     "traceback": [
      "\u001b[0;31m---------------------------------------------------------------------------\u001b[0m",
      "\u001b[0;31mValueError\u001b[0m                                Traceback (most recent call last)",
      "Cell \u001b[0;32mIn[44], line 8\u001b[0m\n\u001b[1;32m      5\u001b[0m all_ops \u001b[38;5;241m=\u001b[39m [parse_term(line)[\u001b[38;5;241m1\u001b[39m] \u001b[38;5;28;01mfor\u001b[39;00m line \u001b[38;5;129;01min\u001b[39;00m lines]\n\u001b[1;32m      6\u001b[0m max_orb \u001b[38;5;241m=\u001b[39m \u001b[38;5;28mmax\u001b[39m(\u001b[38;5;28mint\u001b[39m(op[:\u001b[38;5;241m-\u001b[39m\u001b[38;5;241m1\u001b[39m] \u001b[38;5;28;01mif\u001b[39;00m op\u001b[38;5;241m.\u001b[39mendswith(\u001b[38;5;124m'\u001b[39m\u001b[38;5;124m^\u001b[39m\u001b[38;5;124m'\u001b[39m) \u001b[38;5;28;01melse\u001b[39;00m op) \u001b[38;5;28;01mfor\u001b[39;00m ops \u001b[38;5;129;01min\u001b[39;00m all_ops \u001b[38;5;28;01mfor\u001b[39;00m op \u001b[38;5;129;01min\u001b[39;00m ops) \u001b[38;5;241m+\u001b[39m \u001b[38;5;241m1\u001b[39m \u001b[38;5;66;03m# Assuming lowest orbital starts from 0\u001b[39;00m\n\u001b[0;32m----> 8\u001b[0m H, basis \u001b[38;5;241m=\u001b[39m \u001b[43mbuild_hamiltonian_matrix\u001b[49m\u001b[43m(\u001b[49m\u001b[43mmax_orb\u001b[49m\u001b[43m,\u001b[49m\u001b[43m \u001b[49m\u001b[43mlines\u001b[49m\u001b[43m)\u001b[49m\n\u001b[1;32m      9\u001b[0m \u001b[38;5;28mprint\u001b[39m(\u001b[38;5;124m\"\u001b[39m\u001b[38;5;124mHamiltonian matrix:\u001b[39m\u001b[38;5;124m\"\u001b[39m)\n\u001b[1;32m     10\u001b[0m \u001b[38;5;28mprint\u001b[39m(H)\n",
      "Cell \u001b[0;32mIn[43], line 65\u001b[0m, in \u001b[0;36mbuild_hamiltonian_matrix\u001b[0;34m(n_orbitals, lines)\u001b[0m\n\u001b[1;32m     63\u001b[0m     new_state, phase \u001b[38;5;241m=\u001b[39m apply_op(ops, state)\n\u001b[1;32m     64\u001b[0m     \u001b[38;5;28;01mif\u001b[39;00m new_state:\n\u001b[0;32m---> 65\u001b[0m         j \u001b[38;5;241m=\u001b[39m \u001b[43mstate_index\u001b[49m\u001b[43m(\u001b[49m\u001b[43mnew_state\u001b[49m\u001b[43m,\u001b[49m\u001b[43m \u001b[49m\u001b[43mbasis\u001b[49m\u001b[43m)\u001b[49m\n\u001b[1;32m     66\u001b[0m         H[i, j] \u001b[38;5;241m+\u001b[39m\u001b[38;5;241m=\u001b[39m coeff \u001b[38;5;241m*\u001b[39m phase\n\u001b[1;32m     68\u001b[0m \u001b[38;5;66;03m# Hermitian conjugate term\u001b[39;00m\n",
      "Cell \u001b[0;32mIn[43], line 17\u001b[0m, in \u001b[0;36mstate_index\u001b[0;34m(state, basis)\u001b[0m\n\u001b[1;32m     16\u001b[0m \u001b[38;5;28;01mdef\u001b[39;00m\u001b[38;5;250m \u001b[39m\u001b[38;5;21mstate_index\u001b[39m(state, basis):\n\u001b[0;32m---> 17\u001b[0m     \u001b[38;5;28;01mreturn\u001b[39;00m \u001b[43mbasis\u001b[49m\u001b[38;5;241;43m.\u001b[39;49m\u001b[43mindex\u001b[49m\u001b[43m(\u001b[49m\u001b[38;5;28;43mtuple\u001b[39;49m\u001b[43m(\u001b[49m\u001b[43mstate\u001b[49m\u001b[43m)\u001b[49m\u001b[43m)\u001b[49m\n",
      "\u001b[0;31mValueError\u001b[0m: (1, 1, 1, 0) is not in list"
     ]
    }
   ],
   "source": [
    "with open(input_file, 'r') as f:\n",
    "    lines = [line for line in f if line.strip() and not line.startswith('#')]\n",
    "\n",
    "# Determine the number of orbitals (max index + 1)\n",
    "all_ops = [parse_term(line)[1] for line in lines]\n",
    "max_orb = max(int(op[:-1] if op.endswith('^') else op) for ops in all_ops for op in ops) + 1 # Assuming lowest orbital starts from 0\n",
    "\n",
    "H, basis = build_hamiltonian_matrix(max_orb, lines)\n",
    "print(\"Hamiltonian matrix:\")\n",
    "print(H)\n",
    "\n",
    "exp_val = compute_thermal_expectation(H, beta)\n",
    "print(f\"\\nThermal expectation value of H (beta={beta}): {exp_val:.6f}\")"
   ]
  },
  {
   "cell_type": "code",
   "execution_count": 42,
   "metadata": {},
   "outputs": [
    {
     "name": "stdout",
     "output_type": "stream",
     "text": [
      "(1, 1, 0, 0)\n",
      "(1, 0, 1, 0) -1\n"
     ]
    }
   ],
   "source": [
    "basis = generate_half_filling_basis(4)\n",
    "print(basis[0])\n",
    "newstate , phase = apply_op(['2^' , '1'] , basis[0])\n",
    "print(newstate , phase)"
   ]
  },
  {
   "cell_type": "code",
   "execution_count": null,
   "metadata": {},
   "outputs": [],
   "source": []
  }
 ],
 "metadata": {
  "kernelspec": {
   "display_name": "Python 3",
   "language": "python",
   "name": "python3"
  },
  "language_info": {
   "codemirror_mode": {
    "name": "ipython",
    "version": 3
   },
   "file_extension": ".py",
   "mimetype": "text/x-python",
   "name": "python",
   "nbconvert_exporter": "python",
   "pygments_lexer": "ipython3",
   "version": "3.9.6"
  }
 },
 "nbformat": 4,
 "nbformat_minor": 2
}
